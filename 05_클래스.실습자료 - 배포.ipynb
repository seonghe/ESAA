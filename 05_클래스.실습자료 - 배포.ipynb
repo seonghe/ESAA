{
 "cells": [
  {
   "cell_type": "markdown",
   "metadata": {},
   "source": [
    "### 1-1. 비어있는 사람(Human)클래스를 \"정의\" 하라"
   ]
  },
  {
   "cell_type": "code",
   "execution_count": 59,
   "metadata": {},
   "outputs": [],
   "source": [
    "class Human:\n",
    "    pass"
   ]
  },
  {
   "cell_type": "markdown",
   "metadata": {},
   "source": [
    "### 1-2. 사람(Human)클래스를 \"생성\"하고 areum변수에 할당해라"
   ]
  },
  {
   "cell_type": "code",
   "execution_count": 24,
   "metadata": {},
   "outputs": [],
   "source": [
    "class Human:\n",
    "    pass\n",
    "areum=Human() #areum:객체/변수"
   ]
  },
  {
   "cell_type": "markdown",
   "metadata": {},
   "source": [
    "### 1-3. 사람(Human)클래스에 \"응애응애\"를 출력하는 생성자를 추가해라"
   ]
  },
  {
   "cell_type": "code",
   "execution_count": 25,
   "metadata": {},
   "outputs": [],
   "source": [
    "class Human:\n",
    "    def __init__(self):\n",
    "        print(\"응애응애\")"
   ]
  },
  {
   "cell_type": "markdown",
   "metadata": {},
   "source": [
    "### 1-4. 사람(Human)클래스에 (이름,나이,성별)을 받는 생성자를 추가하여라"
   ]
  },
  {
   "cell_type": "code",
   "execution_count": 26,
   "metadata": {},
   "outputs": [],
   "source": [
    "class Human:\n",
    "    def __init__(self, name, age, gender):\n",
    "        self.name=name\n",
    "        self.age=age\n",
    "        self.gender=gender"
   ]
  },
  {
   "cell_type": "markdown",
   "metadata": {},
   "source": [
    "### 1-5. 위에서 생성한 인스턴스의 이름, 나이, 성별을 출력하여라. 인스턴스 변수에 접근하여 값을 얻어 오세요."
   ]
  },
  {
   "cell_type": "code",
   "execution_count": 37,
   "metadata": {},
   "outputs": [
    {
     "name": "stdout",
     "output_type": "stream",
     "text": [
      "박성희 26 여자\n"
     ]
    }
   ],
   "source": [
    "areum=Human(\"박성희\",26,\"여자\") #생성자 이용한 경우니까 areum 변수(객체)만들때 바로 값 넣어줌\n",
    "print(areum.name, areum.age, areum.gender)"
   ]
  },
  {
   "cell_type": "markdown",
   "metadata": {},
   "source": [
    "### 1-6.사람 (Human) 클래스에서 이름, 나이, 성별을 출력하는 who() 메소드를 구현하여라."
   ]
  },
  {
   "cell_type": "code",
   "execution_count": 57,
   "metadata": {},
   "outputs": [
    {
     "name": "stdout",
     "output_type": "stream",
     "text": [
      "박성희 26 여자\n"
     ]
    }
   ],
   "source": [
    "class Human:\n",
    "    def __init__(self, name, age, gender):\n",
    "        self.name=name\n",
    "        self.age=age\n",
    "        self.gender=gender\n",
    "    def who(self):\n",
    "        print(self.name, self.age, self.gender)\n",
    "\n",
    "     \n",
    "areum=Human(\"박성희\", 26, \"여자\") #생성자 이용한 경우니까 areum 변수(객체)만들때 바로 값 넣어줌\n",
    "areum.who()"
   ]
  },
  {
   "cell_type": "markdown",
   "metadata": {},
   "source": [
    "### 1-7.사람 (Human) 클래스에 (이름, 나이, 성별)을 받는 setInfo 메소드를 추가하여라."
   ]
  },
  {
   "cell_type": "code",
   "execution_count": 58,
   "metadata": {},
   "outputs": [
    {
     "name": "stdout",
     "output_type": "stream",
     "text": [
      "박성희 26 여자\n"
     ]
    }
   ],
   "source": [
    "class Human:  \n",
    "    def setInfo(self, name, age, gender): #이건 생성자 이용한 방법이 아님\n",
    "        self.name=name\n",
    "        self.age=age\n",
    "        self.gender=gender\n",
    "        \n",
    "        \n",
    "areum2=Human() #생성자 이용안한거니까 위의 areum=Human(\"박성희\",26,\"여자\")랑 다름 \n",
    "areum2.setInfo(\"박성희\", 26, \"여자\") #여기서 값 넣어줌\n",
    "print(areum2.name, areum2.age, areum2.gender)"
   ]
  },
  {
   "cell_type": "markdown",
   "metadata": {},
   "source": [
    "### 2.다음은 Calculator 클래스이다."
   ]
  },
  {
   "cell_type": "code",
   "execution_count": 19,
   "metadata": {},
   "outputs": [],
   "source": [
    "class Calculator:\n",
    "    def __init__(self):\n",
    "        self.value = 0\n",
    "\n",
    "    def add(self, val):\n",
    "        self.value += val"
   ]
  },
  {
   "cell_type": "markdown",
   "metadata": {},
   "source": [
    "#### 위 클래스를 상속하는 UpgradeCalculator를 만들고 값을 뺄 수 있는 minus 메서드를 추가해 보자. 즉 다음과 같이 동작하는 클래스를 만들어야 한다."
   ]
  },
  {
   "cell_type": "code",
   "execution_count": 54,
   "metadata": {},
   "outputs": [
    {
     "name": "stdout",
     "output_type": "stream",
     "text": [
      "-10\n"
     ]
    }
   ],
   "source": [
    "class UpgradeCalculator(Calculator): \n",
    "    def minus(self, val):\n",
    "        self.value -= val\n",
    "        \n",
    "        \n",
    "a=UpgradeCalculator()\n",
    "a.minus(10)\n",
    "print(a.value) #아니면 위에서 return self.value 하면 print(a.value)안해도 -10 출력"
   ]
  },
  {
   "cell_type": "markdown",
   "metadata": {},
   "source": [
    "### 3. 객체변수 value가 100 이상의 값은 가질 수 없도록 제한하는 MaxLimitCalculator 클래스를 만들어 보자. 즉 다음과 같이 동작해야 한다."
   ]
  },
  {
   "cell_type": "code",
   "execution_count": 22,
   "metadata": {},
   "outputs": [
    {
     "name": "stdout",
     "output_type": "stream",
     "text": [
      "100\n"
     ]
    }
   ],
   "source": [
    "#cal = MaxLimitCalculator()\n",
    "#cal.add(50) # 50 더하기\n",
    "#cal.add(60) # 60 더하기\n",
    "#print(cal.value) # 100 출력\n",
    "\n",
    "class MaxLimitCalculator(Calculator):\n",
    "    def add(self,val):\n",
    "        self.value += val\n",
    "        if self.value > 100:\n",
    "            self.value=100\n",
    "            \n",
    "            \n",
    "cal = MaxLimitCalculator()\n",
    "cal.add(50) # 50 더하기\n",
    "cal.add(60) # 60 더하기\n",
    "print(cal.value) # 100 출력"
   ]
  },
  {
   "cell_type": "markdown",
   "metadata": {},
   "source": [
    "#### 단 반드시 다음과 같은 Calculator 클래스를 상속해서 만들어야 한다."
   ]
  },
  {
   "cell_type": "code",
   "execution_count": 21,
   "metadata": {},
   "outputs": [],
   "source": [
    "class Calculator:\n",
    "    def __init__(self):\n",
    "        self.value = 0\n",
    "\n",
    "    def add(self, val):\n",
    "        self.value += val\n",
    "        return self.value"
   ]
  }
 ],
 "metadata": {
  "kernelspec": {
   "display_name": "Python 3",
   "language": "python",
   "name": "python3"
  },
  "language_info": {
   "codemirror_mode": {
    "name": "ipython",
    "version": 3
   },
   "file_extension": ".py",
   "mimetype": "text/x-python",
   "name": "python",
   "nbconvert_exporter": "python",
   "pygments_lexer": "ipython3",
   "version": "3.7.4"
  }
 },
 "nbformat": 4,
 "nbformat_minor": 2
}
